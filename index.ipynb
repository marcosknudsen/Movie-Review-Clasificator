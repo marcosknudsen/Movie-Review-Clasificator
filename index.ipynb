{
 "cells": [
  {
   "cell_type": "code",
   "execution_count": null,
   "metadata": {
    "id": "OxuQcj3Tj996"
   },
   "outputs": [],
   "source": [
    "%pip install pandas\n",
    "\n",
    "from re import X\n",
    "import pandas as pd\n",
    "\n",
    "url='https://drive.google.com/file/d/1oJGoCdcu0J-qyYLQuPHnI6xocdGrq6XK/view?usp=sharing'\n",
    "url='https://drive.google.com/uc?id=' + url.split('/')[-2]\n",
    "data = pd.read_csv(url)\n",
    "\n",
    "\n",
    "X = data.iloc[:, 0].tolist()\n",
    "y = data.iloc[:, -1].to_numpy()"
   ]
  },
  {
   "cell_type": "code",
   "execution_count": null,
   "metadata": {
    "collapsed": true,
    "id": "mlEGfiWdRR-A"
   },
   "outputs": [],
   "source": [
    "%pip install tensorflow\n",
    "\n",
    "import tensorflow as tf\n",
    "\n",
    "tokenizer = tf.keras.preprocessing.text.Tokenizer()\n",
    "tokenizer.fit_on_texts(X)\n",
    "\n",
    "X_secuencias = tokenizer.texts_to_sequences(X)\n",
    "X_features = tf.keras.preprocessing.sequence.pad_sequences(X_secuencias, padding='post')"
   ]
  },
  {
   "cell_type": "code",
   "execution_count": null,
   "metadata": {
    "colab": {
     "base_uri": "https://localhost:8080/"
    },
    "id": "PaQIXO1Gr9-N",
    "outputId": "feb5960b-8e64-4eff-dc04-d010dc51b018"
   },
   "outputs": [],
   "source": [
    "from tensorflow.keras.preprocessing.text import Tokenizer\n",
    "from tensorflow.keras.preprocessing.sequence import pad_sequences\n",
    "\n",
    "max_words = 10000\n",
    "max_len = 400\n",
    "\n",
    "tokenizer = Tokenizer(num_words=max_words)\n",
    "tokenizer.fit_on_texts(X)\n",
    "\n",
    "sequences = tokenizer.texts_to_sequences(X)\n",
    "\n",
    "word_index = tokenizer.word_index\n",
    "print(f\"Índice de palabras: {word_index}\")\n",
    "\n",
    "data = pad_sequences(sequences, maxlen=max_len,padding='post')\n",
    "\n",
    "print(f\"Secuencias tokenizadas y rellenas: {data}\")"
   ]
  },
  {
   "cell_type": "code",
   "execution_count": null,
   "metadata": {
    "colab": {
     "base_uri": "https://localhost:8080/"
    },
    "id": "mpeqb_oHFK4a",
    "outputId": "e7d49033-9bd8-43be-de94-6ebd98dd78fb"
   },
   "outputs": [],
   "source": [
    "%pip install sklearn\n",
    "%pip install scikit-learn\n",
    "\n",
    "from sklearn.model_selection import train_test_split\n",
    "\n",
    "# Assuming X and y are your features and labels respectively\n",
    "X_train, X_test, y_train, y_test = train_test_split(data, y, test_size=0.2, random_state=42)\n",
    "\n",
    "print(f\"Training data shape: {X_train.shape}\")\n",
    "print(f\"Testing data shape: {X_test.shape}\")"
   ]
  },
  {
   "cell_type": "code",
   "execution_count": null,
   "metadata": {
    "colab": {
     "base_uri": "https://localhost:8080/"
    },
    "id": "QDgauTTItKcq",
    "outputId": "5b7f90e3-ec8a-461e-cf9d-caa567294e2a"
   },
   "outputs": [],
   "source": [
    "from tensorflow.keras.models import Sequential\n",
    "from tensorflow.keras.layers import Embedding, LSTM, Dense, Dropout, Bidirectional\n",
    "from tensorflow.keras.optimizers import Adam\n",
    "from tensorflow.keras.regularizers import l2\n",
    "\n",
    "model = Sequential()\n",
    "\n",
    "embedding_dim = 300\n",
    "model.add(Embedding(input_dim=max_words, output_dim=embedding_dim, input_length=max_len))\n",
    "\n",
    "model.add(Bidirectional(LSTM(32, return_sequences=True)))\n",
    "model.add(Dropout(0.3))\n",
    "\n",
    "model.add(Bidirectional(LSTM(32)))\n",
    "model.add(Dropout(0.3))\n",
    "\n",
    "model.add(Dense(1, activation='sigmoid'))\n",
    "\n",
    "optimizer = Adam(learning_rate=0.001)\n",
    "model.compile(optimizer=optimizer, loss='binary_crossentropy', metrics=['accuracy'])"
   ]
  },
  {
   "cell_type": "code",
   "execution_count": null,
   "metadata": {
    "id": "fjvzwkZ2tdFD"
   },
   "outputs": [],
   "source": [
    "import os\n",
    "\n",
    "checkpoint_path = \"training_1/cp.weights.h5\"\n",
    "checkpoint_dir = os.path.dirname(checkpoint_path)"
   ]
  },
  {
   "cell_type": "code",
   "execution_count": null,
   "metadata": {
    "colab": {
     "base_uri": "https://localhost:8080/"
    },
    "id": "ojPTKiUqvPoi",
    "outputId": "f2fb2de0-8da6-4a97-d5e3-90d50e1aec4d"
   },
   "outputs": [],
   "source": [
    "from tensorflow.keras.utils import plot_model\n",
    "from tensorflow.keras.callbacks import ModelCheckpoint, EarlyStopping\n",
    "\n",
    "cp_callback = tf.keras.callbacks.ModelCheckpoint(filepath=checkpoint_path,\n",
    "                                                 save_weights_only=True,\n",
    "                                                 verbose=0)\n",
    "\n",
    "early_stopping = EarlyStopping(monitor='val_loss', patience=2, restore_best_weights=True)\n",
    "\n",
    "history = model.fit(\n",
    "    X_train, y_train,\n",
    "    validation_data=(X_test, y_test),\n",
    "    epochs=10,\n",
    "    batch_size=32,\n",
    "    callbacks=[cp_callback, early_stopping]\n",
    ")\n"
   ]
  },
  {
   "cell_type": "code",
   "execution_count": null,
   "metadata": {
    "colab": {
     "base_uri": "https://localhost:8080/",
     "height": 931
    },
    "id": "ErzWBXRmIE6_",
    "outputId": "001bf015-7be1-4a2d-b7d4-843067812f03"
   },
   "outputs": [],
   "source": [
    "%pip install matplotlib\n",
    "\n",
    "import matplotlib.pyplot as plt\n",
    "\n",
    "# Pérdida\n",
    "plt.plot(history.history['loss'], label='Entrenamiento')\n",
    "plt.plot(history.history['val_loss'], label='Validación')\n",
    "plt.title('Curva de pérdida')\n",
    "plt.xlabel('Épocas')\n",
    "plt.ylabel('Pérdida')\n",
    "plt.legend()\n",
    "plt.show()\n",
    "\n",
    "# Precisión\n",
    "plt.plot(history.history['accuracy'], label='Entrenamiento')\n",
    "plt.plot(history.history['val_accuracy'], label='Validación')\n",
    "plt.title('Curva de precisión')\n",
    "plt.xlabel('Épocas')\n",
    "plt.ylabel('Precisión')\n",
    "plt.legend()\n",
    "plt.show()"
   ]
  },
  {
   "cell_type": "code",
   "execution_count": null,
   "metadata": {
    "colab": {
     "base_uri": "https://localhost:8080/"
    },
    "id": "f0Zm4lDhGEod",
    "outputId": "20b36033-ec95-491e-a79d-70d9653c8f1c"
   },
   "outputs": [],
   "source": [
    "from sklearn.metrics import confusion_matrix\n",
    "\n",
    "# Generar probabilidades de las predicciones\n",
    "y_pred_prob = model.predict(X_test)\n",
    "\n",
    "# Convertir las probabilidades a clases binarias (0 o 1)\n",
    "y_pred = (y_pred_prob > 0.5).astype(\"int32\")\n",
    "\n",
    "# Calcular la matriz de confusión\n",
    "conf_matrix = confusion_matrix(y_test, y_pred)\n",
    "\n",
    "# Imprimir la matriz\n",
    "print(\"Matriz de confusión:\")\n",
    "print(conf_matrix)\n"
   ]
  },
  {
   "cell_type": "code",
   "execution_count": null,
   "metadata": {
    "colab": {
     "base_uri": "https://localhost:8080/",
     "height": 564
    },
    "id": "l_7URJilG8Ee",
    "outputId": "af48b2c1-a853-4823-90b5-80b92d5b1ee9"
   },
   "outputs": [],
   "source": [
    "%pip install seaborn\n",
    "\n",
    "import seaborn as sns\n",
    "import matplotlib.pyplot as plt\n",
    "\n",
    "# Graficar la matriz de confusión\n",
    "plt.figure(figsize=(8, 6))\n",
    "sns.heatmap(conf_matrix, annot=True, fmt=\"d\", cmap=\"Blues\", xticklabels=[\"Negativa\", \"Positiva\"], yticklabels=[\"Negativa\", \"Positiva\"])\n",
    "plt.xlabel(\"Predicción\")\n",
    "plt.ylabel(\"Etiqueta Real\")\n",
    "plt.title(\"Matriz de Confusión\")\n",
    "plt.show()"
   ]
  },
  {
   "cell_type": "code",
   "execution_count": null,
   "metadata": {
    "id": "2hXZrSD8Nhj2"
   },
   "outputs": [],
   "source": [
    "# Preprocess the input text\n",
    "input_text = [\"What can I say about such a boring and stupid show. The first episode is bad. I watched the second to see if it got any better but it actually got worse. I cannot watch any more.\"]\n",
    "input_sequences = tokenizer.texts_to_sequences(input_text)\n",
    "input_padded = pad_sequences(input_sequences, maxlen=max_len, padding='post')\n",
    "\n",
    "# Predict using the model\n",
    "prediction = model.predict(input_padded)\n",
    "print(prediction)"
   ]
  },
  {
   "cell_type": "code",
   "execution_count": null,
   "metadata": {
    "colab": {
     "base_uri": "https://localhost:8080/",
     "height": 410
    },
    "id": "lIkRWRpYs3LT",
    "outputId": "85ee4ebd-90b5-440e-c1d7-c11817b04bf4"
   },
   "outputs": [],
   "source": [
    "model.build(input_shape=(None, max_len))\n",
    "model.load_weights(\"training_1/cp.weights.h5\")"
   ]
  },
  {
   "cell_type": "markdown",
   "metadata": {
    "id": "cnGR_9C2tjw7"
   },
   "source": [
    "\n",
    "\n",
    "---\n",
    "\n"
   ]
  }
 ],
 "metadata": {
  "colab": {
   "provenance": []
  },
  "kernelspec": {
   "display_name": ".venv",
   "language": "python",
   "name": "python3"
  },
  "language_info": {
   "codemirror_mode": {
    "name": "ipython",
    "version": 3
   },
   "file_extension": ".py",
   "mimetype": "text/x-python",
   "name": "python",
   "nbconvert_exporter": "python",
   "pygments_lexer": "ipython3",
   "version": "3.11.9"
  }
 },
 "nbformat": 4,
 "nbformat_minor": 0
}
